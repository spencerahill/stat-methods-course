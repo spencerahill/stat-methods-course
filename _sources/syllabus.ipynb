{
 "cells": [
  {
   "cell_type": "markdown",
   "id": "c115b5c0-d53a-4dff-869c-1798c38d29df",
   "metadata": {},
   "source": [
    "# Syllabus"
   ]
  },
  {
   "cell_type": "markdown",
   "id": "515de80e-a12d-42ff-97bc-e1fbd10d8e87",
   "metadata": {},
   "source": [
    "# EAS42000: Statistical Methods in Earth and Atmospheric Sciences"
   ]
  },
  {
   "cell_type": "markdown",
   "id": "6b73b030-11be-4088-bd3b-4774865180e4",
   "metadata": {},
   "source": [
    "# Course Information\n",
    "\n",
    "- **Instructor**: Spencer Hill\n",
    "- **Email**: shill1@ccny.cuny.edu\n",
    "- **Class Times**: Fridays, 9:30am-12pm\n",
    "- **Office Hours**: TBD\n",
    "- **Location**: TBD\n",
    "- **Course Website**: TBD"
   ]
  },
  {
   "cell_type": "markdown",
   "id": "d61b3901-ed2d-425e-83da-7d00906ff0a3",
   "metadata": {},
   "source": [
    "# Course Description\n",
    "\n",
    "This course is designed to provide students with a comprehensive understanding of statistical methods and their applications in Earth and Atmospheric Sciences. Over the course of the semester, students will explore topics such as descriptive statistics, probability, time series analysis, and data visualization. Emphasizing both theoretical foundations and practical skills, the course integrates lectures with interactive labs to ensure a hands-on learning experience. Whether applied to climate dynamics, weather forecasting, or environmental analysis, the statistical tools acquired in this course will serve as essential building blocks for further study and research in the field."
   ]
  },
  {
   "cell_type": "markdown",
   "id": "ee4b136b-0743-49d2-8ae7-d3eb228fa5a7",
   "metadata": {},
   "source": [
    "# Final Project\n",
    "\n",
    "The final project is a capstone experience that allows students to apply the statistical methods learned throughout the course to a real-world problem in Earth and Atmospheric Sciences. Students will select a topic of interest, conduct data analysis, and present their findings in both written and oral formats. This project not only reinforces the technical skills acquired but also fosters critical thinking, problem-solving, and communication abilities. Guidance, resources, and regular feedback will be provided to support students in this significant undertaking."
   ]
  },
  {
   "cell_type": "markdown",
   "id": "411cc6f5-e10b-4e5a-a8d7-aa3e20f14032",
   "metadata": {},
   "source": [
    "# Academic Integrity\n",
    "\n",
    "Academic integrity is a fundamental value of [Your Institution], and adherence to its principles is vital for a meaningful learning experience. Students are expected to complete all assignments, exams, and projects with honesty and integrity. Plagiarism, cheating, or other forms of academic misconduct will not be tolerated. Violations will result in disciplinary actions, which may include a failing grade for the assignment, failure of the course, or further institutional penalties. It is the responsibility of each student to be familiar with and uphold the Academic Integrity Policies of CCNY ([here](https://www.ccny.cuny.edu/academicaffairs/academic-integrityacademic-standards)) and of the City University of New York ([here](https://www.cuny.edu/about/administration/offices/legal-affairs/policies-resources/academic-integrity-policy/)). Collaboration and discussion with peers are encouraged within the bounds defined by the instructor, but all submitted work must be the student's original effort."
   ]
  }
 ],
 "metadata": {
  "kernelspec": {
   "display_name": "Python 3 (ipykernel)",
   "language": "python",
   "name": "python3"
  },
  "language_info": {
   "codemirror_mode": {
    "name": "ipython",
    "version": 3
   },
   "file_extension": ".py",
   "mimetype": "text/x-python",
   "name": "python",
   "nbconvert_exporter": "python",
   "pygments_lexer": "ipython3",
   "version": "3.11.4"
  }
 },
 "nbformat": 4,
 "nbformat_minor": 5
}

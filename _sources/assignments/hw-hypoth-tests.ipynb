{
 "cells": [
  {
   "cell_type": "markdown",
   "id": "f153f43f-2eab-478f-8eee-69f5151332aa",
   "metadata": {},
   "source": [
    "# Probability distributions and hypothesis tests homework assignment\n",
    "\n",
    "In this assignment, we'll dig further into $t$ tests.\n",
    "\n",
    "**Please read through the entire assignment carefully.**  Note, the instructions for this assignment are *deliberately* less explicit than previous ones.  This is to help you build the critical scientific skills of *reading carefully*, *thinking critically*, and making *decisions under uncertainty*.  In other words, it's on you to: find what's being asked, make your own plan for how to tackle it, and then execute that plan."
   ]
  },
  {
   "cell_type": "markdown",
   "id": "c0ece60a-7d3a-4515-ba6d-a5ff24955cbb",
   "metadata": {},
   "source": [
    "## Compare the $t$ and normal distributions\n",
    "\n",
    "In class, we learned that for hypothesis testing of differences in means, the test statistic is called Student's $t$ or just $t$.  The $t$ distribution is similar but not identical to the standard normal distribution, especially for small sample sizes.  Its exact shape depends on the *degrees of freedom*, denoted $\\nu$.  For the difference in two means, this is simply $\\nu=N_1+N_2-2$, where $N_1$ and $N_2$ are the sample sizes of the first and second samples, respectively.\n",
    "\n",
    "Using [scipy.stats.t.pdf](https://docs.scipy.org/doc/scipy/reference/generated/scipy.stats.t.html#scipy.stats.t) and [scipy.stats.norm.pdf](https://docs.scipy.org/doc/scipy/reference/generated/scipy.stats.norm.html#scipy.stats.norm), \n",
    "plot the PDFs of both distributions spanning from -5 to 5.  For the $t$ distribution, overlay 3 different versions on the same axes: $\\nu=1, 10, and 100$.  Add a legend labeling each of these and the normal.\n",
    "\n",
    "This demonstrates that, as the sample sizes grow, the $t$ distribution increasingly is well approximated by the standard normal.  (In fact, it holds mathematically that the $t$ distribution approaches the standard normal exactly as $\\nu\\rightarrow\\infty$.)"
   ]
  },
  {
   "cell_type": "markdown",
   "id": "0e7c17cc-05de-49ff-baec-177ec4f04bf8",
   "metadata": {},
   "source": [
    "## Find the most helpful online resources on $t$ tests you can find\n",
    "There are tons of great resources that are available online and completely free.  These include blog posts, YouTube videos, tutorials in the documentation to statistical software packages, whole semester-length university classes that have been pre-recorded, and more.  (The course [resources](../info/resources) page lists just a few.)  An important but overlooked skill (you could call it a *meta* skill) for scientists and engineers is learning to make use of these resources.\n",
    "\n",
    "For this assignment, search the web for **three** different resources.  They can be any of the types listed above or even something else.  (For example, it could be 2 YouTube videos and 1 blog post; 1 blog post, 1 tutorial, and 1 textbook chapter; etc.)  Study these three resources, and then do the following:\n",
    "\n",
    "- For each resource: provide the URL to the resource and describe how you found it.\n",
    "- If it's a YouTube video, embed the video in your Jupyter notebook.\n",
    "- Write summaries in *your own words* of what each resource conveys.\n",
    "- Describe one or more things that each resource helped you understand.\n",
    "- Describe one or more things that each resource did *not* help you with, either because it was missing or was included but you're still unclear on it.\n",
    "- Rank the three resources from least helpful to most helpful for you, and explain your ranking.\n",
    "\n",
    "**Note: for this particular assignment, do NOT include ChatGPT or other related tools.**  They will be the focus of a subsequent assignment."
   ]
  },
  {
   "cell_type": "markdown",
   "id": "c370bd01-f63d-42d7-82f4-a72b9b84defb",
   "metadata": {},
   "source": [
    "## Write your own function(s) for computing $t$ tests\n",
    "\n",
    "Write a python function that computes a $t$ test for the difference in means between two samples.  You can import any functions, modules, or packages that you'd like for this purpose **other than** any that directly compute the $t$ statistic or corresponding $p$ value.  (For example, you *can't* use `scipy.stats.ttest_ind`, since it directly outputs both $t$ and $p$\n",
    "\n",
    "Your functions' *call signatures* should be as follows:\n",
    "\n",
    "```python\n",
    "def t_stat(sample1, sample2):\n",
    "    \"\"\"Compute the t statistic for difference in means of the two samples.\n",
    "    \n",
    "    Arguments:\n",
    "\n",
    "    sample1, sample2: xarray.DataArrays, each containing one of the \n",
    "                      two samples to compute the t statistic for\n",
    "\n",
    "    \"\"\"\n",
    "    # Insert your code here for computing the t statistic\n",
    "    return t_stat\n",
    "\n",
    "\n",
    "def pval_of_ttest(t_stat, deg_free):\n",
    "    \"\"\"Compute the p value of of the given t statistic and degrees of freedom.\n",
    "    \n",
    "    Arguments:\n",
    "\n",
    "    t_stat: scalar, the value of the t statistic\n",
    "    deg_free: scalar, the number of degrees of freedom corresponding to t_stat\n",
    "\n",
    "    \"\"\"\n",
    "    # Insert your code here for computing the p value\n",
    "    return p_val\n",
    "```\n",
    "\n",
    "Where `t_stat` is the value of the $t$ statistic, and `p_val` is the corresponding $p$ value.\n",
    "\n",
    "Specifically, for each of the following pairs of samples from the Central Park dataset:\n",
    "\n",
    "1. Across all years 1869-2022, monthly average precipitation in September vs. in January.\n",
    "2. Average annual sum of cooling degree days for the period 1971-2000 vs. 2001-2022.\n",
    "\n",
    "Use [numpy.isclose](https://numpy.org/doc/stable/reference/generated/numpy.isclose.html) to explicitly test your values against the results of `scipy.stats.ttest_ind`."
   ]
  },
  {
   "cell_type": "markdown",
   "id": "5787a5c7-65c5-4566-899c-69505050f57f",
   "metadata": {},
   "source": [
    "## Extra credit"
   ]
  },
  {
   "cell_type": "markdown",
   "id": "730f4d13-8a53-4adb-84c0-0f9f01729ef4",
   "metadata": {},
   "source": [
    "### Compute the $t$ test for two or more salient differences-in-mean for your final project.\n",
    "\n",
    "Find at least two pairs of sample means from your datasets whose difference are scientifically interesting for your project.  Perform the $t$ test for each.  Report the numerical values of the $t$ statistic, $p$ value, degrees of freedom.  Describe your interpretation of the $t$ test from a statistical perspective.  Also describe your interpretaiton from a physical/scientific perspective."
   ]
  },
  {
   "cell_type": "markdown",
   "id": "e02f4dbf-d42a-42ed-8881-91fd10836f2f",
   "metadata": {},
   "source": [
    "## How to submit\n",
    "\n",
    "The instructions from the last HW all apply for this one, so refer to those (available [here](./hw-probability) under \"How to submit\").\n",
    "\n",
    "In addition, please read the following carefully:\n",
    "\n",
    "### Do NOT call `pip`, `conda`, or any shell commands in your notebook\n",
    "\n",
    "Jupyter notebooks are *extremely* powerful.  With a simple exclamation point (!), you can use a cell block to run not Python code but any shell command.  This could include commands that, for example, download something nefarious from the internet, or delete all the files on my computer.\n",
    "\n",
    "As a less extreme example but one that actually has happened, it is possible to call `pip` and `conda` from within your Jupyter notebook.  When your notebook then runs on my computer, this could potentially mess up the package installations I have.\n",
    "\n",
    "For this reason, you MUST NOT include any code that calls these or any other command line tools.  And you must not use any of the Python builtin tools that accomplish similar things (such as the `subprocess` package).  If you need to install a package or update an existing one, do so OUTSIDE of your notebook, either from a terminal session or using Anaconda Navigator.\n",
    "\n",
    "I have safeguards implemented to identify these kinds of things, but still if any of them are included in your notebook I will automatically deduct 20% of the possible score from your grade."
   ]
  }
 ],
 "metadata": {
  "kernelspec": {
   "display_name": "Python 3 (ipykernel)",
   "language": "python",
   "name": "python3"
  },
  "language_info": {
   "codemirror_mode": {
    "name": "ipython",
    "version": 3
   },
   "file_extension": ".py",
   "mimetype": "text/x-python",
   "name": "python",
   "nbconvert_exporter": "python",
   "pygments_lexer": "ipython3",
   "version": "3.11.4"
  }
 },
 "nbformat": 4,
 "nbformat_minor": 5
}

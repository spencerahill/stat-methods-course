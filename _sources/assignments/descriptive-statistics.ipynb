{
 "cells": [
  {
   "cell_type": "markdown",
   "id": "34ce4a26-208a-4555-a0a3-97e66dd5b8ac",
   "metadata": {
    "editable": true,
    "slideshow": {
     "slide_type": ""
    },
    "tags": []
   },
   "source": [
    "# NOTE: this isn't yet complete!"
   ]
  },
  {
   "cell_type": "markdown",
   "id": "d36a6730-50ba-4633-b053-2c3e6f8016b1",
   "metadata": {
    "editable": true,
    "slideshow": {
     "slide_type": ""
    },
    "tags": []
   },
   "source": [
    "**This assignment is currently incomplete; I'll let the class know once it's ready for you!**"
   ]
  },
  {
   "cell_type": "markdown",
   "id": "f051dfa0-723f-49b3-b1ce-3005d7f1114c",
   "metadata": {
    "editable": true,
    "slideshow": {
     "slide_type": ""
    },
    "tags": []
   },
   "source": [
    "# Assignment: descriptive statistics and data visualization"
   ]
  },
  {
   "cell_type": "markdown",
   "id": "320e4654-1a93-43d1-980a-0ff04e2dbd57",
   "metadata": {
    "editable": true,
    "slideshow": {
     "slide_type": ""
    },
    "tags": []
   },
   "source": [
    "All of the quantities that we discussed in this lecture---mean, variance, skewness, etc.---are used ubiquitously and thus are already implemented many times in Python.  That's how I was able to call `precip_central_park.mean()` for example.\n",
    "\n",
    "Those built-in implementations in Python and in reliable packages we'll use lik numpy, scipy, and xarray are very widely tested for bugs, optimized for performance, and include lots of nice additional features for more complex calculations.  But they're also kind of a black box---when you call `precip_central_park.mean()`, it doesn't tell you what's happening \"under the hood;\" it just spits out the result.\n",
    "\n",
    "In this assignment, to make sure we each *do* understand what these different quantities each entail, we'll re-implement each one from scratch.  For each one, we'll test it against the built-in version to make sure that they give the right answers.  And along the way we'll learn more about how Python works."
   ]
  }
 ],
 "metadata": {
  "kernelspec": {
   "display_name": "Python 3 (ipykernel)",
   "language": "python",
   "name": "python3"
  },
  "language_info": {
   "codemirror_mode": {
    "name": "ipython",
    "version": 3
   },
   "file_extension": ".py",
   "mimetype": "text/x-python",
   "name": "python",
   "nbconvert_exporter": "python",
   "pygments_lexer": "ipython3",
   "version": "3.11.4"
  }
 },
 "nbformat": 4,
 "nbformat_minor": 5
}

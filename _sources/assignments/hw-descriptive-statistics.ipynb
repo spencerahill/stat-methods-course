{
 "cells": [
  {
   "cell_type": "markdown",
   "id": "f051dfa0-723f-49b3-b1ce-3005d7f1114c",
   "metadata": {
    "editable": true,
    "slideshow": {
     "slide_type": ""
    },
    "tags": []
   },
   "source": [
    "# Writing key quantities from descriptive statistics in Python yourself"
   ]
  },
  {
   "cell_type": "markdown",
   "id": "4cc872f6-7f88-45aa-8d30-d47a1147eea3",
   "metadata": {
    "editable": true,
    "slideshow": {
     "slide_type": ""
    },
    "tags": []
   },
   "source": [
    "## Introduction"
   ]
  },
  {
   "cell_type": "markdown",
   "id": "320e4654-1a93-43d1-980a-0ff04e2dbd57",
   "metadata": {
    "editable": true,
    "slideshow": {
     "slide_type": ""
    },
    "tags": []
   },
   "source": [
    "All of the quantities that we discussed in the [lecture on descriptive statistics](../lectures/descriptive-statistics)---mean, variance, skewness, etc.---are used ubiquitously.  As such, they have already been written up in Python as functions in myriad different ways. implemented many times in Python.  That's how I was able to call `precip_central_park.mean()` for example: the variable is `precip_central_park` is an [xarray.DataArray](https://docs.xarray.dev/en/stable/generated/xarray.DataArray.html) object; and DataArrays include [mean](https://docs.xarray.dev/en/stable/generated/xarray.DataArray.mean.html) as a method.\n",
    "\n",
    "Those built-in implementations in the Python standard library and in reliable packages we'll use like [numpy](https://numpy.org/), [scipy](https://scipy.org/), and [xarray](https://docs.xarray.dev/en/stable/) are very widely tested for bugs, optimized for performance, and include lots of nice additional features for more complex calculations.  So other than in this assignment, they are what you should use when you need to compute these kinds of things.\n",
    "\n",
    "But they're also kind of a black box---when you call `precip_central_park.mean()`, it doesn't tell you what's happening \"under the hood.\"  It just spits out the result, whether you actually understand the quantity conceptually or not.\n",
    "\n",
    "In this assignment, to make sure we each *do* understand what these different quantities each entail, we'll write each one ourselves as a Python function.  For each one, we'll test it against the built-in version to make sure that they give the right answers.  And along the way we'll learn more about how Python works.\n",
    "\n",
    "The goal is to challenge you in two key ways: (1) understanding more deeply the key quantities in descriptive statistics, and (2) understanding more deeply the basics of how Python works."
   ]
  },
  {
   "cell_type": "markdown",
   "id": "7c0c0692-8996-4ee3-a73d-b358e404fda1",
   "metadata": {
    "editable": true,
    "slideshow": {
     "slide_type": ""
    },
    "tags": []
   },
   "source": [
    "### A toy example: addition"
   ]
  },
  {
   "cell_type": "markdown",
   "id": "c6e9ba7c-80f3-4b36-abc0-75a822371d8c",
   "metadata": {
    "editable": true,
    "slideshow": {
     "slide_type": ""
    },
    "tags": []
   },
   "source": [
    "By way of example, I'll create a function right now that simply adds two numbers.  Of course, there is no need to do this; you can just use Python's standard addition operator via the plus sign `+`:"
   ]
  },
  {
   "cell_type": "code",
   "execution_count": 1,
   "id": "689cebd3-30ee-4d41-abf4-152c2ffadcef",
   "metadata": {
    "editable": true,
    "slideshow": {
     "slide_type": ""
    },
    "tags": []
   },
   "outputs": [
    {
     "data": {
      "text/plain": [
       "5"
      ]
     },
     "execution_count": 1,
     "metadata": {},
     "output_type": "execute_result"
    }
   ],
   "source": [
    "2 + 3"
   ]
  },
  {
   "cell_type": "markdown",
   "id": "0ce6e6eb-c528-4536-86e1-a34de22edc62",
   "metadata": {
    "editable": true,
    "slideshow": {
     "slide_type": ""
    },
    "tags": []
   },
   "source": [
    "But we could also write our own function that does this:"
   ]
  },
  {
   "cell_type": "code",
   "execution_count": 4,
   "id": "524d939d-93ad-4483-b4ca-9c8683881a5b",
   "metadata": {
    "editable": true,
    "slideshow": {
     "slide_type": ""
    },
    "tags": []
   },
   "outputs": [],
   "source": [
    "def add(num1, num2):\n",
    "    \"\"\"Add the two numbers.\"\"\"\n",
    "    return num1 + num2"
   ]
  },
  {
   "cell_type": "markdown",
   "id": "2cfc9caa-aadf-4ecc-8ee1-7ded3875a9c1",
   "metadata": {
    "editable": true,
    "slideshow": {
     "slide_type": ""
    },
    "tags": []
   },
   "source": [
    "This defined (`def`) a function named `add` that accepts two arguments (`num1` and `num2`) and spits out (`return`s) their sum.\n",
    "\n",
    "Now we can call our function to perform the addition:"
   ]
  },
  {
   "cell_type": "code",
   "execution_count": 5,
   "id": "71c14862-ae77-4866-a6d3-62b6efbd22be",
   "metadata": {
    "editable": true,
    "slideshow": {
     "slide_type": ""
    },
    "tags": []
   },
   "outputs": [
    {
     "data": {
      "text/plain": [
       "5"
      ]
     },
     "execution_count": 5,
     "metadata": {},
     "output_type": "execute_result"
    }
   ],
   "source": [
    "add(2, 3)"
   ]
  },
  {
   "cell_type": "markdown",
   "id": "67ab9a77-b130-4cd0-93a9-e787afab921f",
   "metadata": {
    "editable": true,
    "slideshow": {
     "slide_type": ""
    },
    "tags": []
   },
   "source": [
    "Finally, even though it's plainly obvious that our function will, as desired, give you the sum of two numbers, let's formally show that using Python's `==` operator (that's two equals signs), which returns `True` if two things are the same or `False` if they aren't:"
   ]
  },
  {
   "cell_type": "code",
   "execution_count": 6,
   "id": "78d33fa2-777e-4a74-8a4f-9446079f1cde",
   "metadata": {
    "editable": true,
    "slideshow": {
     "slide_type": ""
    },
    "tags": []
   },
   "outputs": [
    {
     "data": {
      "text/plain": [
       "True"
      ]
     },
     "execution_count": 6,
     "metadata": {},
     "output_type": "execute_result"
    }
   ],
   "source": [
    "add(2, 3) == (2 + 3)"
   ]
  },
  {
   "cell_type": "markdown",
   "id": "381fe64b-a5a6-4f75-b9c8-7647ad9bb276",
   "metadata": {
    "editable": true,
    "slideshow": {
     "slide_type": ""
    },
    "tags": []
   },
   "source": [
    "## Your specific task"
   ]
  },
  {
   "cell_type": "markdown",
   "id": "2db4dfc5-0799-46e3-9437-012d9d0ed895",
   "metadata": {
    "editable": true,
    "slideshow": {
     "slide_type": ""
    },
    "tags": []
   },
   "source": [
    "These are the six quantities that you will implement in Python as functions:\n",
    "\n",
    "Measures of central tendency:\n",
    "- mean\n",
    "- median\n",
    "\n",
    "Measures of dispersion\n",
    "- range\n",
    "- variance\n",
    "- standard deviation\n",
    "- coefficient of variation\n",
    "\n",
    "For each one, the function call signature (meaning what arguments it accepts) should look like this:\n",
    "\n",
    "```python\n",
    "def my_func(arr):\n",
    "   \"\"\"replace w/ brief informative description of your function\"\"\"\n",
    "    # Insert line(s) of code that perform the desired calculation\n",
    "    # on the given 1D array named `arr`.\n",
    "    return answer  # Here, `answer` should be replaced with whatever variable you define in your function that stores the final result of your function.\n",
    "```\n",
    "\n",
    "So, for example, write another addition function, making it add up all the elements in a 1D array rather than just two numbers.  That might look like this:"
   ]
  },
  {
   "cell_type": "code",
   "execution_count": 7,
   "id": "37cde942-f7ef-4e29-b597-282ba557c82e",
   "metadata": {
    "editable": true,
    "slideshow": {
     "slide_type": ""
    },
    "tags": []
   },
   "outputs": [],
   "source": [
    "def add_array(arr):\n",
    "    \"\"\"Sum all elements of the array.\"\"\"\n",
    "    sum = 0\n",
    "    for arr_element in arr:  # Loop over every item in the array `arr`\n",
    "        sum += arr_element  # Add that item to the running sum\n",
    "    return sum  # Once the loop has run over all elements, give us (\"return\") the total sum."
   ]
  },
  {
   "cell_type": "markdown",
   "id": "e76a8350-9902-44cd-b691-8215d1591dd5",
   "metadata": {
    "editable": true,
    "slideshow": {
     "slide_type": ""
    },
    "tags": []
   },
   "source": [
    "### What each function must do"
   ]
  },
  {
   "cell_type": "markdown",
   "id": "622629ff-1211-43c2-99e6-092e9359ac4f",
   "metadata": {
    "editable": true,
    "slideshow": {
     "slide_type": ""
    },
    "tags": []
   },
   "source": [
    "- Only use things built in to Python's standard library, and excluding those in the built-in `math` package.  In other words, there should be no `import` statements anywhere in your code!\n",
    "- You can use a function you already wrote inside of another!  So for example, let's say you wanted to create a function that computed the square of the sum of all array elements.  Given that `add_array` already exists, we could write this as follows:\n",
    "\n",
    "```python\n",
    "def square_sum(arr):\n",
    "    return add_array(arr) ** 2\n",
    "```"
   ]
  },
  {
   "cell_type": "markdown",
   "id": "c7090183-bbdf-4aa5-89a9-07f9a7417fec",
   "metadata": {
    "editable": true,
    "slideshow": {
     "slide_type": ""
    },
    "tags": []
   },
   "source": [
    "### Things you do *not* have to worry about"
   ]
  },
  {
   "cell_type": "markdown",
   "id": "84f49410-7b5a-418e-8329-461028429d96",
   "metadata": {
    "editable": true,
    "slideshow": {
     "slide_type": ""
    },
    "tags": []
   },
   "source": [
    "- You can assume that the function will only be given one-dimensional arrays consisting entirely of decimal numbers (i.e. \"floats\").  You don't have to worry about handling, for example, if it was passed an integer instead, or a 2-D array, etc.  \n",
    "- You don't have to worry at all about performance, i.e. how fast the code runs and how much memory it uses.  Just write it in the way that is the most intuitive to you."
   ]
  },
  {
   "cell_type": "markdown",
   "id": "a78d4d0c-5a90-4d5c-b151-93408ac21a01",
   "metadata": {
    "editable": true,
    "slideshow": {
     "slide_type": ""
    },
    "tags": []
   },
   "source": [
    "### Things to look out for"
   ]
  },
  {
   "cell_type": "markdown",
   "id": "9ee68e05-6b80-49ab-887c-95d095835b4b",
   "metadata": {
    "editable": true,
    "slideshow": {
     "slide_type": ""
    },
    "tags": []
   },
   "source": [
    "Especially for those newer to Python, a couple potential \"gotchas\":\n",
    "\n",
    "- Indentation matters in Python!  After the `def my_func(arr):` line, the lines of code that are part of the function must be indented, meaning those lines start with one or more spaces.  The standard is four spaces, and so please use that.\n",
    "- The function must end with a line starting with `return`, followed by whatever it is you want that function to spit out at the end.  So for example, if in my `add_array` function above, I had forgotten to include the `return sum` line, the function would compute the sum but then just not do anything with it!"
   ]
  },
  {
   "cell_type": "markdown",
   "id": "edcc88e2-8d8f-4a61-919d-7f9e86358abc",
   "metadata": {
    "editable": true,
    "slideshow": {
     "slide_type": ""
    },
    "tags": []
   },
   "source": [
    "### What specifically you will submit"
   ]
  },
  {
   "cell_type": "markdown",
   "id": "392033fc-7a91-444a-ad34-111c47f74664",
   "metadata": {
    "editable": true,
    "slideshow": {
     "slide_type": ""
    },
    "tags": []
   },
   "source": [
    "For each function, you'll print out the results of that function computed on the following simple toy array:\n",
    "\n",
    "```python\n",
    "arr_test = [1.0, 4.0, 10.0, 4.0, 2.]\n",
    "```\n",
    "\n",
    "This is small enough that you can double check all of the quantities yourself against a calculator."
   ]
  },
  {
   "cell_type": "markdown",
   "id": "bd472997-e70a-4e41-957c-83df850caa5d",
   "metadata": {
    "editable": true,
    "slideshow": {
     "slide_type": ""
    },
    "tags": []
   },
   "source": [
    "Please submit this assignment as a python script, with a filename matching the pattern `eas42000_hw1_lastname-firstname.py`, replacing `lastname` with your lastname and `firstname` with your first name.  \n",
    "\n",
    "(Even if you normally use Jupyter and do all your scratch work on this assignment in Jupyter, you must write this as a `.py` script rather than a `.ipynb` Jupyter notebook file.  This is for two reasons: (1) it's good to occasionally practice dropping down from Jupyter notebooks to just plain-old scripts, and (2) to simplify the workflow of grading on my part.)\n",
    "\n",
    "The script MUST run successfully from the command line when called from within the directory in which the script itself lives:\n",
    "\n",
    "```sh\n",
    "python ./eas42000_hw1_lastname-firstname.py\n",
    "```"
   ]
  },
  {
   "cell_type": "markdown",
   "id": "ff6c20bd-6fc1-422f-9745-9ead30848439",
   "metadata": {
    "editable": true,
    "slideshow": {
     "slide_type": ""
    },
    "tags": []
   },
   "source": [
    "For example, for my toy `add_array` function above, this is what the file would look like (please note that the Jupyter formatting adds an extra 4 space indentation to all code blocks, which you'd remove in the actual script):\n",
    "\n",
    "```python\n",
    "def add_array(arr):\n",
    "    \"\"\"Sum all elements of the array.\"\"\"\n",
    "    sum = 0\n",
    "    for arr_element in arr:  # Loop over every item in the array `arr`\n",
    "        sum += arr_element  # Add that item to the running sum\n",
    "    return sum  # Once the loop has run over all elements, give us (\"return\") the total sum.\n",
    "\n",
    "\n",
    "# You don't have to include this `if` statement, especially if you don't \n",
    "# yet know what it's doing.  We'll return to why this is a good practice later on.\n",
    "# If you do comment it out, don't forget to remove the indentation of the lines\n",
    "# after, otherwise you'll get an `IndentationError`.\n",
    "if __name__ == \"__main__\":\n",
    "    # Define the toy array we'll test the functions against.\n",
    "    arr_test = [1.0, 4.0, 10.0, 4.0, 2.]\n",
    "    # Print out its values to make sure you copy/pasted it correctly from the HW.\n",
    "    print(f\"Toy dataset is: {arr_test}\")\n",
    "\n",
    "    # Start with the first measure to be calculated.\n",
    "    # In this toy example, it's my array-sum metric.  In yours, it will be the mean.\n",
    "\n",
    "    # Describe the measure conceptually in words, and report the answer\n",
    "    # that it should produce when computed on the toy array, which you can \n",
    "    # compute by hand or at most using a simple calculator.\n",
    "    print()  # blank line for easier readability\n",
    "    print(\"Function #1 is the sum: add all elements of the array.\")\n",
    "    ans_expected_sum = 21\n",
    "    print(f\"We can add those up without a computer or calculator; the answer is {ans_expected_sum}.\")\n",
    "\n",
    "    # Now call your function on the toy array, and print out the result.\n",
    "    ans_add_array_on_toy = add_array(arr_test)\n",
    "    print(f\"Calling `add_array` on the toy dataset.  Answer: {ans_add_array_on_toy}\")\n",
    "\n",
    "    # Finally, print out the difference between what you expect the answer to be\n",
    "    # and what the actual function computes (this should be zero or *very* close to it).\n",
    "    diff_add_array_expect_actual = ans_expected_sum - ans_add_array_on_toy\n",
    "    print(f\"Difference between expected and actual: {diff_add_array_expect_actual}\")\n",
    "    print()  # A blank line at the end of each function makes the output easier to read.\n",
    "\n",
    "    # Then repeat the lines of code starting with the \"# Describe ...\" comment but\n",
    "    # applied to each of the remaining 4 quantities.\n",
    "```"
   ]
  },
  {
   "cell_type": "markdown",
   "id": "e1c9ca50-63e8-4d5e-8e75-c96f1dbff649",
   "metadata": {
    "editable": true,
    "slideshow": {
     "slide_type": ""
    },
    "tags": []
   },
   "source": [
    "### How to submit it"
   ]
  },
  {
   "cell_type": "markdown",
   "id": "36cf023b-df8e-4edb-8c78-80d103d9070e",
   "metadata": {
    "editable": true,
    "slideshow": {
     "slide_type": ""
    },
    "tags": []
   },
   "source": [
    "Use the Google Form at [this link](https://forms.gle/TUPE7is7rfreoeQh7) (you must be logged into your CUNY/CCNY Google Account in order to have access)."
   ]
  },
  {
   "cell_type": "markdown",
   "id": "c0e0c8a5-caa8-4981-bb2b-8a8da6060db9",
   "metadata": {
    "editable": true,
    "slideshow": {
     "slide_type": ""
    },
    "tags": []
   },
   "source": [
    "## Extra credit"
   ]
  },
  {
   "cell_type": "markdown",
   "id": "4c577a95-c484-4926-befd-b6143c9dfcef",
   "metadata": {
    "editable": true,
    "slideshow": {
     "slide_type": ""
    },
    "tags": []
   },
   "source": [
    "There are a few ways to earn extra credit, each one up to 5% of the total:\n",
    "\n",
    "### Implement the interquartile range\n",
    "Implement the interquartile range.  Unlike the others, here you are permitted to use something from another package, specifically the [`percentile`](https://numpy.org/doc/stable/reference/generated/numpy.percentile.html) function from `numpy`.\n",
    "\n",
    "### Compute your functions on the Central Park dataset\n",
    "Show that your functions also give the right answers for the Central Park daily average temperature dataset.  You won't be able to compute the answers by hand for this, but you can just copy-paste in the values I provide in the corresponding lecture notes / slides.  \n",
    "\n",
    "(Even more bonus points if, rather than copy-pasting them, you explicitly compute these \"reference values\" yourself using built-in versions of each function in numpy, scipy, xarray, or any other package of your choosing.  If you do this, for efficiency's sake when I go to run these, please place the dataset netCDF file itself in the same directory as the script, and load it in using just its filename rather than a complete path, which will be different on your machine than on mine.)"
   ]
  }
 ],
 "metadata": {
  "kernelspec": {
   "display_name": "Python 3 (ipykernel)",
   "language": "python",
   "name": "python3"
  },
  "language_info": {
   "codemirror_mode": {
    "name": "ipython",
    "version": 3
   },
   "file_extension": ".py",
   "mimetype": "text/x-python",
   "name": "python",
   "nbconvert_exporter": "python",
   "pygments_lexer": "ipython3",
   "version": "3.11.4"
  }
 },
 "nbformat": 4,
 "nbformat_minor": 5
}

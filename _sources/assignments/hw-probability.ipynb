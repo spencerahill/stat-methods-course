{
 "cells": [
  {
   "cell_type": "markdown",
   "id": "f3d8eafe-eb4f-42fb-a18e-7d197252d334",
   "metadata": {},
   "source": [
    "# Key concepts from probability theory and empirical probabilities computed from the Central Park weather dataset"
   ]
  },
  {
   "cell_type": "markdown",
   "id": "7ab931c9-83ac-43a1-9272-76d69b4b3c4d",
   "metadata": {},
   "source": [
    "## Introduction"
   ]
  },
  {
   "cell_type": "markdown",
   "id": "26b0fa66-56ee-408a-84a4-1e74a70b0665",
   "metadata": {},
   "source": [
    "In this assignment, you'll first answer some questions about the fundamental concepts underlying probability theory, and then you'll compute various empirical probabilities using the Central Park weather dataset."
   ]
  },
  {
   "cell_type": "markdown",
   "id": "4020f595-30ae-42e4-b6f1-489b18ba4e85",
   "metadata": {},
   "source": [
    "### NOTICE: use the updated Central Park dataset that includes data through the end of September 2023\n",
    "\n",
    "I have generated a new version of the dataset that includes through the end of September, in order to include the historic rain event we experienced on September 29th.  Please download and use this updated version.  It is labeled on Blackboard as \"Central Park weather station dataset, 1869-01-01 to 2023-09-30 (as netCDF file)\".  And see farther below for specific instructions about the filename."
   ]
  },
  {
   "cell_type": "markdown",
   "id": "120abbec-ecbf-4f62-a5d4-c388466f400c",
   "metadata": {},
   "source": [
    "## Your specific tasks"
   ]
  },
  {
   "attachments": {},
   "cell_type": "markdown",
   "id": "d6cf2e8e-8f9b-4883-bf75-f6f863a80a95",
   "metadata": {},
   "source": [
    "### Sets and probabilities\n",
    "\n",
    "Answer each of the following, by providing **two** things:\n",
    "\n",
    "- A **symbolic** answer: that is, the answer written using numbers and mathematical symbols like $P(E)$, etc.  Follow all notation that we used in class.  OR, if the question is yes/no, then either \"Yes\" or \"No\".\n",
    "- A one or two sentence explanation in plain English of what your answer *means*.\n",
    "\n",
    "Here's an example:\n",
    "\n",
    "**Question 0**: Is $\\{1/6, 1/6, 1/6, 1/6, 1/6, 1/6\\}$ a valid set?\n",
    "\n",
    "**Answer 0**: No.  Each member in a set must be unique.  The closest to this that would be a valid set is $\\{1/6\\}$.\n",
    "\n",
    "OK, now here are the actual 12 questions for *you* to answer:\n",
    "\n",
    "1. If $E_1=\\{1,2,3\\}$ and $E_2=\\{3,1,2\\}$, what's the relationship between $E_1$ and $E_2$?\n",
    "3. What is $\\{1, 3, 5\\}\\cup\\{1,2,3\\}$?\n",
    "4. What is $\\{1, 3, 5\\}\\cap\\{1,2,3\\}$?\n",
    "5. Consider a single roll of a fair, standard 6-sided dice.  Is the event {roll a 1, roll a 6} a simple event?\n",
    "6. If some outcome is impossible, does that mean it can't be a valid event?  (Provide an example.)\n",
    "7. What is the sample space of three consecutive coin flips?  (Use H to denote Heads and T to denote tails.)\n",
    "8. If $S_1$ and $S_2$ are sets, and $S_1\\subseteq S_2$, what is $S_1\\cup S_2$?\n",
    "9. If $S_1$ and $S_2$ are sets, and $S_1\\subseteq S_2$, what is $S_1\\cap S_2$?\n",
    "10. What is $P((E_1\\cup E_2)^C)$?  (The Venn diagram graphical depiction of the sample space is helpful here.)\n",
    "11. What is $P((E_2\\cap E_1)^C)$?\n",
    "12. Suppose you know $P(E_1|E_2)$, $P(E_1)$, and $P(E_2)$.  What is $P(E_2|E_1)$ in terms of those three quantities?\n",
    "13. Can two events (each with nonzero probability) that are independent also be mutually exclusive?"
   ]
  },
  {
   "cell_type": "markdown",
   "id": "a534ecee-3a68-4522-9d56-fe6e8f533ece",
   "metadata": {},
   "source": [
    "### Empirical probabilities in the Central Park dataset"
   ]
  },
  {
   "attachments": {},
   "cell_type": "markdown",
   "id": "402364b1-d12e-4786-a4a2-d2aeac29cdf7",
   "metadata": {},
   "source": [
    "For **each** of the following probabilities:\n",
    "\n",
    "1. P(daily average temperature > 70°F)\n",
    "2. P(daily average temperature > 70°F | the day is in July)\n",
    "3. P(daily average temperature > 70°F | the day is in January)\n",
    "4. P(snow fall > 0\")\n",
    "5. P(snow fall > 0\" | the day is in January or February)\n",
    "6. P(temp_anom *magnitude* exceeds 5°F)\n",
    "7. P(temp_anom *magnitude* exceeds 5°F | the day is a Wednesday)\n",
    "8. P(daily minimum temperature < 32°F) \n",
    "9. P(daily minimum temperature < 32°F | year is 1901-1930)\n",
    "10. P(daily minimum temperature < 32°F | year is 1991-2020)\n",
    "11. P(precip > 5\")\n",
    "12. P(precip > 5\" | the day is in September)\n",
    "\n",
    "...do **each** of the following:\n",
    "- [ ] Compute the empirical probability using the Central Park dataset.  Include the code you used to compute it as well as the actual result.\n",
    "- [ ] Describe in 1-2 sentences your interpretation."
   ]
  },
  {
   "cell_type": "markdown",
   "id": "582389d5-07ee-4463-8a2d-6ee6c0b4083f",
   "metadata": {},
   "source": [
    "## Empirical PDFs and CDFs in the Central Park dataset"
   ]
  },
  {
   "cell_type": "markdown",
   "id": "9f33c2d5-cf5b-41c6-88fc-3493f61c6734",
   "metadata": {},
   "source": [
    "For **any 3** of the following variables in the Central Park daily weather dataset...\n",
    "- `temp_avg` (daily average temperature)\n",
    "- `temp_min` (daily minimum temperature)\n",
    "- `temp_max` (daily maximum temperature)\n",
    "- `temp_anom` (daily average temperature *departure* from \"normal\", i.e. a 30-year average)\n",
    "- `heat_deg_days` ([heating degree days](https://en.wikipedia.org/wiki/Heating_degree_day))\n",
    "- `cool_deg_days` ([cooling degree days](https://en.wikipedia.org/wiki/Degree_day#United_States))\n",
    "- `precip` (precipitation in inches; when it's snow this is [*snow water equivalent*](https://en.wikipedia.org/wiki/Snow_science#Measurement))\n",
    "- `snow_fall` (snowfall in inches that day)\n",
    "- `snow_depth` (depth in inches of snow currently on the ground)\n",
    "\n",
    "...do **each** of the following:\n",
    "\n",
    "- [ ] revisit the histogram you plotted for it from the last assignment.  Experiment with the bin spacing and the `density` keyword argument to come up with what you feel like is the best balance between resolving fine-grained details (recall the single vs. double peak in daily average temperature) on the one hand vs. excessive *noise* on the other hand.  Include **only** the final histogram you decide on as a plot in your notebook, and in 1-3 sentences describe any salient features, including how it compares to the one you generated last assignment.\n",
    "- [ ] compute and plot its empirical cumulative distribution function, and describe it in 1-2 sentences."
   ]
  },
  {
   "cell_type": "markdown",
   "id": "746cc02b-b83b-47db-bee0-51a57979fa29",
   "metadata": {
    "editable": true,
    "slideshow": {
     "slide_type": ""
    },
    "tags": []
   },
   "source": [
    ":::{warning} `scipy.stats.ecdf` only available for scipy version >=1.11\n",
    "\n",
    "The [scipy.stats.ecdf](https://docs.scipy.org/doc/scipy/reference/generated/scipy.stats.ecdf.html) function was added to scipy in version 1.11, which was [released](https://github.com/scipy/scipy/releases/tag/v1.11.0) on June 25, 2023.  This is pretty recent---enough that some students don't have this version of scipy installed, leading to a `NameError` when they try to cal it.\n",
    "\n",
    "If this happens to you, you have a few options:\n",
    "\n",
    "1. Update your scipy to the latest version, 1.11.3.  If you use the GUI version of Anaconda, you can do this within Anaconda Navigator.  If you use the command-line version of conda, try `conda update scipy`.  If you use neither of these, try `pip install scipy --upgrade`.\n",
    "2. You can use the [ECDF](https://www.statsmodels.org/stable/generated/statsmodels.distributions.empirical_distribution.ECDF.html) function implemented in the `statsmodels` package.  (If you don't have this installed, you'd have to install it.)\n",
    "3. You can implement the ECDF function yourself by hand...this is easier than it might sound!  In fact, I've added it below as an extra credit option to entice one or more of you to try it."
   ]
  },
  {
   "cell_type": "markdown",
   "id": "2aa7eed7-b5e7-4063-89fa-75d08b059437",
   "metadata": {},
   "source": [
    "## How to submit"
   ]
  },
  {
   "attachments": {},
   "cell_type": "markdown",
   "id": "4f86d77c-4259-449e-9564-909af35a2c13",
   "metadata": {},
   "source": [
    "### Submission URLs\n",
    "\n",
    "Use the Google Form link in the \"Links for homework submissions\" document on the course Blackboard site to submit.  It's the one labeled \"HW3\".  (You must be logged into your CUNY citymail account in Google to be granted access to the submission form.)\n",
    "\n",
    "Submit the notebook as a *single* `.ipynb` file with a filename matching **exactly** the pattern `eas42000_hw3_lastname-firstname.ipynb`, replacing `lastname` with your last name and `firstname` with your first name."
   ]
  },
  {
   "attachments": {},
   "cell_type": "markdown",
   "id": "2c59d432-cb49-4446-a89f-a683c4037207",
   "metadata": {},
   "source": [
    "### Use a *relative* path to the netCDF file in your code\n",
    "\n",
    "**Important**: you **must** copy the Central Park dataset netCDF file into the same directory/folder that holds your homework `.ipynb` file, *and* your code **must** refer to that file using a *relative* rather than *absolute* filepath.  I.e.:\n",
    "```python\n",
    "path_to_cp = \"./central-park-station-data_1869-01-01_2023-09-30.nc\"  # this is good; it will work on my computer\n",
    "```\n",
    "NOT the *absolute* path to where the file lives on *your* computer:\n",
    "```python\n",
    "path_to_cp = \"/Users/jane-student/eas4200/central-park-station-data_1869-01-01_2023-09-30.nc\"  # this will NOT work on my computer\n",
    "```\n",
    "\n",
    "If you don't follow this instruction, it will cause your Notebook to not run successfully when I go to run it on my computer."
   ]
  },
  {
   "attachments": {},
   "cell_type": "markdown",
   "id": "fb2dd56e-9fc4-4c31-9c7e-f39cb5c01a1a",
   "metadata": {},
   "source": [
    "### Use this exact name for the netCDF file: `central-park-station-data_1869-01-01_2023-09-30.nc`\n",
    "\n",
    "Similar but different to the issue immediately above re: relative vs. absolute paths, on my computer the Central Park dataset is saved with the filename printed just above.  That means the file must have that name on your computer too; if your notebook refers to a file with a different name, my computer won't find it and so your notebook will crash."
   ]
  },
  {
   "attachments": {},
   "cell_type": "markdown",
   "id": "69a41496-aaa7-44f5-b05b-7b4d2954fbff",
   "metadata": {},
   "source": [
    "### Your Notebook *must* run successfully start-to-finish on *my* laptop\n",
    "\n",
    "I will run every person's notebook on my own computer as part of the grading.  If that is unsuccessful---meaning that when I select \"Run all cells\", the code execution crashes at any point with an error message---you automatically lose 5% on the assignment.  \n",
    "\n",
    "If I can easily fix the issue, I'll proceed with that submission.  If not, I will email you asking you to re-submit a version that does run.  (And each subsequent submission that doesn't run successfully loses an additional 5%.)\n",
    "\n",
    "This could be because of the relative/absolute filepath and/or filename issues described immediately above and/or any other bug in your code.\n",
    "\n",
    "Why?  It takes a *lot* of time to debug someone else's Notebook that doesn't work.  And meanwhile, it's very easy for you to follow this instruction (see bold paragraph immediately below).  So it's just not fair to me if I have to spend a lot of time debugging your code.\n",
    "\n",
    "**To prevent this, as a last step before submitting your Notebook, I URGE you to restart your Jupyter Kernel, select \"Run all cells\", and make sure that it runs successfully.**  *Then* save it one last time and upload it."
   ]
  },
  {
   "cell_type": "markdown",
   "id": "c0129e65-d18c-4b6e-8ea7-7d0e83c59e6e",
   "metadata": {},
   "source": [
    "### A note on ChatGPT etc.\n",
    "\n",
    "The first batch of questions on sets and probability are, frankly, ones that are very tempting targets to feed into ChatGPT and related tools.  Do so at your own peril!  Not because it will necessarily give you the wrong answers (it might or might not), but because then you probably won't **learn** nearly as much.\n",
    "\n",
    "Also, and perhaps more practically relevant to you: the upcoming midterm exam---which will be 100% closed book/notes/computers/etc., paper-and-pencil---will have quite a few questions of a very similar nature to these.  So consider these as practice for the exam in that sense, meaning the more you find the discipline to answer them just on your own using the lecture slides and other course materials, the better off you'll be come test day.\n",
    "\n",
    "And of course refer to and adhere to the policies in the [syllabus](../info/syllabus) regarding these tools."
   ]
  },
  {
   "cell_type": "markdown",
   "id": "a668e47c-ae80-4f8f-95e1-e5956b1a98b1",
   "metadata": {},
   "source": [
    "## Extra credit"
   ]
  },
  {
   "cell_type": "markdown",
   "id": "e1e61b08-465c-4434-95ad-019f8a2dc7d2",
   "metadata": {},
   "source": [
    "Each extra credit option below earns you up to an extra 5% on this assignment."
   ]
  },
  {
   "attachments": {},
   "cell_type": "markdown",
   "id": "1bebd899-65e0-483e-b6eb-a3a7fb393101",
   "metadata": {},
   "source": [
    "### Explicitly compare the empirical CDFs to the integrals of your empirical PDFs\n",
    "\n",
    "As discussed in class, the cumulative distribution function amounts to the integral of the probability density function.  This task asks you to verify that for yourself numerically.\n",
    "\n",
    "Pick any two of the variables in the Central Park dataset.  Take the empirical PDF you generated via the histograms, and numerically integrate it using a method/package/etc. of your choosing.  Plot the result against the \"true\" empirical CDF you generated already.  Describe what you find in 1-2 sentences."
   ]
  },
  {
   "cell_type": "markdown",
   "id": "368b1d83-8fac-4751-b67e-bdf86d997135",
   "metadata": {},
   "source": [
    "### Try out \"Bayesian blocks\" for your PDF bins\n",
    "\n",
    "[Bayesian blocks](https://jakevdp.github.io/blog/2012/09/12/dynamic-programming-in-python/) is a method for choosing optimal bin sizes for histograms in which the bin sizes do not have to be uniform.  (It's much more involved than that, but that suffices for our purposes).\n",
    "\n",
    "Return to your empirical PDFs for any two variables in the Central Park dataset.  Re-generate their histograms using the bins generated by this Bayesian blocks method.  It is implemented in the `astropy` package; see docs [here](https://docs.astropy.org/en/stable/api/astropy.stats.bayesian_blocks.html).\n",
    "\n",
    "Compare the results to the PDFs you generated before.  Describe salient differences and/or similarities."
   ]
  },
  {
   "cell_type": "markdown",
   "id": "065cf2bb-59f0-4c5d-a1c3-1843de45e196",
   "metadata": {},
   "source": [
    "### Create your own empirical CDF function.\n",
    "\n",
    "That is, define a function that computes the empirical CDF value at each point in the array it is given, and does so \"from scratch,\" meaning that it doesn't just call e.g. `scipy.stats.ecdf`.\n",
    "\n",
    "Hint: start by sorting the array.  What's the quantile of the smallest value?  Of the 2nd smallest?  Of the largest?  \n",
    "\n",
    "Verify that your function gives (nearly) the same results as `scipy.stats.ecdf` or another available implementation."
   ]
  },
  {
   "attachments": {},
   "cell_type": "markdown",
   "id": "8c042bc8-951d-407c-a717-e88c378c294f",
   "metadata": {},
   "source": [
    "### Compute some key empirical probabilities on data you're using for your final project\n",
    "\n",
    "Compute and report some key empirical probabilities from the data for your final project.  Which probabilities would be *key* vs. not depends on your particular project.  For example, suppose you were using the Central Park dataset to investigate extreme snow events.  Then probabilities of snow exceeding various high thresholds would definitely be key, while probabilities of say exceeding various thresholds in maximum daily temperatures in July (when there is never any snow) would not.\n",
    "\n",
    "This must include at least one of each of the following:\n",
    "\n",
    "- unconditional probability of a single event\n",
    "- unconditional probability of the union of two or more events\n",
    "- unconditional probability of the intersection of two or more events\n",
    "- one or more conditional probabilities\n",
    "\n",
    "This is a double bonus: it gets you extra credit on this assignment *and* helps you make progress on your final project!"
   ]
  },
  {
   "attachments": {},
   "cell_type": "markdown",
   "id": "9311f00c-3d96-49a1-9bfb-9338ee705020",
   "metadata": {},
   "source": [
    "### Submitting the extra credit: **as the .html output of a separate notebook file**\n",
    "\n",
    "(Please submit the extra credit this way even if you don't do the part that involves using your own final project data.)\n",
    "\n",
    "Each of you is using a different dataset, none of which I have on my local computer where I'll be running your notebooks.  And some of these datasets are quite large, so it's impractical to have you include your datasets along with the notebook file.  But that means that I won't be able to execute this portion of your code on my laptop.\n",
    "\n",
    "For that reason, please do the following:\n",
    "\n",
    "1. Perform all of your calculations for the extra credit **in a separate .ipynb** notebook file from the main one that you'll submit as described above.\n",
    "2. Once your Extra Credit notebook is 100% ready, reset and run it start to finish as described above.\n",
    "3. At that point, **export it to an HTML file using Jupyter's built-in exporting features.**\n",
    "4. Upload **that HTML file** via the same link described above for the main submission."
   ]
  }
 ],
 "metadata": {
  "kernelspec": {
   "display_name": "Python 3 (ipykernel)",
   "language": "python",
   "name": "python3"
  },
  "language_info": {
   "codemirror_mode": {
    "name": "ipython",
    "version": 3
   },
   "file_extension": ".py",
   "mimetype": "text/x-python",
   "name": "python",
   "nbconvert_exporter": "python",
   "pygments_lexer": "ipython3",
   "version": "3.11.4"
  }
 },
 "nbformat": 4,
 "nbformat_minor": 5
}
